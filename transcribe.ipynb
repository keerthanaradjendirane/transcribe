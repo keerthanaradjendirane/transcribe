{
 "cells": [
  {
   "cell_type": "code",
   "execution_count": null,
   "id": "d0608b59",
   "metadata": {},
   "outputs": [],
   "source": [
    "import tempfile\n",
    "import speech_recognition as sr\n",
    "import assemblyai as aai\n",
    "\n",
    "# Initialize the recognizer\n",
    "recognizer = sr.Recognizer()\n",
    "\n",
    "# Set up AssemblyAI API key\n",
    "aai.settings.api_key = \"dc62769570b1402d97f6ce79c836cd4d\"\n",
    "transcriber = aai.Transcriber()\n",
    "\n",
    "# Function to continuously convert speech to text and print in real-time\n",
    "def speech_to_text():\n",
    "    print(\"Speak now...\")\n",
    "    with sr.Microphone() as source:\n",
    "        while True:\n",
    "            audio = recognizer.listen(source)  # Listen to the microphone input\n",
    "\n",
    "            try:\n",
    "                # Save the audio to a temporary WAV file\n",
    "                with tempfile.NamedTemporaryFile(delete=False) as temp_file:\n",
    "                    temp_filename = temp_file.name\n",
    "                    recognizer.adjust_for_ambient_noise(source)\n",
    "                    temp_file.write(audio.get_wav_data())\n",
    "\n",
    "                # Transcribe the temporary WAV file using AssemblyAI\n",
    "                transcript = transcriber.transcribe(temp_filename)\n",
    "\n",
    "                # Print the transcribed text in real-time\n",
    "                print(\"Transcription:\", transcript.text)\n",
    "\n",
    "            except sr.UnknownValueError:\n",
    "                # Handle unrecognized speech\n",
    "                pass\n",
    "            except sr.RequestError as e:\n",
    "                # Handle errors from the recognition service\n",
    "                print(f\"Could not request results from AssemblyAI service; {e}\")\n",
    "\n",
    "# Call the function to start listening and transcribing in real-time\n",
    "speech_to_text()\n"
   ]
  }
 ],
 "metadata": {
  "kernelspec": {
   "display_name": "Python 3 (ipykernel)",
   "language": "python",
   "name": "python3"
  },
  "language_info": {
   "codemirror_mode": {
    "name": "ipython",
    "version": 3
   },
   "file_extension": ".py",
   "mimetype": "text/x-python",
   "name": "python",
   "nbconvert_exporter": "python",
   "pygments_lexer": "ipython3",
   "version": "3.11.5"
  }
 },
 "nbformat": 4,
 "nbformat_minor": 5
}
